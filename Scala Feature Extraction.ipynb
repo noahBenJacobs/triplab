{
 "cells": [
  {
   "cell_type": "markdown",
   "metadata": {},
   "source": [
    "# Example of Feature Extraction from Incompatible File"
   ]
  },
  {
   "cell_type": "markdown",
   "metadata": {},
   "source": [
    "This notebook uses IPFX to take in a single cell from the Scala database, converts the units, and eliminates problematic sweeps.\n",
    "Feature Extraction Notebook: https://github.com/stripathy/ephys_examples/blob/master/ABF_to_IPFX.ipynb\n",
    "The Scala Dataset: https://gui.dandiarchive.org/#/dandiset/5e7115073da50caa9adaf419"
   ]
  },
  {
   "cell_type": "code",
   "execution_count": 1,
   "metadata": {},
   "outputs": [],
   "source": [
    "# Load IPFX libraries\n",
    "import os\n",
    "from ipfx.dataset.create import create_ephys_data_set\n",
    "from ipfx.data_set_features import extract_data_set_features\n",
    "from ipfx.utilities import drop_failed_sweeps\n",
    "from ipfx.dataset.create import create_ephys_data_set\n",
    "from ipfx.sweep import Sweep, SweepSet\n",
    "\n",
    "# Load pandas library too\n",
    "import pandas as pd\n",
    "\n",
    "#Mouse File location\n",
    "mouseFile = \"/Users/noahjacobs/Triplab/Mouse Files/sub-mouse-AAYYT/sub-mouse-CCRZS_ses-20190610-sample-3_slice-20190610-slice-3_cell-20190610-sample-3_icephys.nwb\"\n",
    "data_set = create_ephys_data_set(nwb_file=mouseFile)"
   ]
  },
  {
   "cell_type": "markdown",
   "metadata": {},
   "source": [
    "## Discover functional sweeps"
   ]
  },
  {
   "cell_type": "markdown",
   "metadata": {},
   "source": [
    "We loop through the sweeps and adds the index of ones which dont cause errors to good_sweeps.   "
   ]
  },
  {
   "cell_type": "code",
   "execution_count": 4,
   "metadata": {},
   "outputs": [
    {
     "name": "stdout",
     "output_type": "stream",
     "text": [
      "Rejected 10\n",
      "[0, 1, 2, 3, 4, 5, 6, 7, 8, 9, 11, 12, 13, 14, 15, 16, 17, 18, 19, 20, 21, 22, 23, 24, 25, 26, 27, 28, 29, 30, 31, 32, 33, 34, 35, 36, 37, 38, 39, 40, 41, 42, 43, 44, 45, 46, 47, 48, 49]\n"
     ]
    }
   ],
   "source": [
    "good_sweeps = list()\n",
    "for i in range(50):\n",
    "    try:\n",
    "        curr_sweep = data_set.sweep_set(i).sweeps[0]\n",
    "        good_sweeps.append(i)\n",
    "    except:\n",
    "        print(\"Rejected \" + str(i))\n",
    "print(good_sweeps)"
   ]
  },
  {
   "cell_type": "markdown",
   "metadata": {},
   "source": [
    "## Translate Sweeps into New Sweep Object"
   ]
  },
  {
   "cell_type": "markdown",
   "metadata": {},
   "source": [
    "Here we go through all the sweep indexes stored in good_sweeps.  The response and stim vector units are converted and added to sweep_list, which is turned into a IPFX SweepSet Object: https://github.com/AllenInstitute/ipfx/blob/master/ipfx/sweep.py"
   ]
  },
  {
   "cell_type": "code",
   "execution_count": 3,
   "metadata": {},
   "outputs": [],
   "source": [
    "sweep_list = list()\n",
    "resp_sampling_rate = 25000 # Calculated with 1/(t_vec[1]-t_vec[0])\n",
    "clamp_mode = \"CurrentClamp\"\n",
    "\n",
    "\n",
    "for i in good_sweeps:\n",
    "    curr_sweep = data_set.sweep_set(i).sweeps[0]\n",
    "  \n",
    "    #Convert and store vectors\n",
    "    t_vec = curr_sweep.t\n",
    "    v_vec = curr_sweep.v*0.001\n",
    "    i_vec = curr_sweep.i*pow(10,-12)\n",
    "\n",
    "    #Create Sweep Sbject\n",
    "    sweep = Sweep(t=t_vec,\n",
    "                  v=v_vec,\n",
    "                  i=i_vec,\n",
    "                  sampling_rate=resp_sampling_rate,\n",
    "                  sweep_number=i,\n",
    "                  clamp_mode=clamp_mode,\n",
    "                  #epochs = curr_epoch\n",
    "                  )\n",
    "    #Add Sweep Object to Sweep List \n",
    "    sweep_list.append(sweep)\n",
    "    \n",
    "#Cast sweep_list into a SweepSet Object    \n",
    "sweep_list = SweepSet(sweep_list)\n"
   ]
  },
  {
   "cell_type": "markdown",
   "metadata": {},
   "source": [
    "## Plot Sweeps"
   ]
  },
  {
   "cell_type": "markdown",
   "metadata": {},
   "source": [
    "Here we can plot individual Sweeps from the SweepSet Object."
   ]
  },
  {
   "cell_type": "code",
   "execution_count": 26,
   "metadata": {},
   "outputs": [
    {
     "data": {
      "image/png": "[encoded data removed]",
      "text/plain": [
       "<Figure size 432x288 with 2 Axes>"
      ]
     },
     "metadata": {
      "needs_background": "light"
     },
     "output_type": "display_data"
    }
   ],
   "source": [
    "# these are basic IPFX objects for working with sweeps and sets of sweeps\n",
    "from ipfx.sweep import Sweep, SweepSet \n",
    "\n",
    "sweep_plot_index = 11 # which sweep number do you want to plot?\n",
    "\n",
    "curr_sweep = sweep_list.sweeps[sweep_plot_index]\n",
    "t = curr_sweep.t\n",
    "v = curr_sweep.v\n",
    "i = curr_sweep.i\n",
    "fig, axes = plt.subplots(2, 1, sharex=True)\n",
    "axes[0].plot(t, v)\n",
    "axes[0].set_xlim(0, 1)\n",
    "axes[0].set_ylabel(\"Membrane voltage (mV)\")\n",
    "axes[1].plot(t, i, c=\"orange\")\n",
    "axes[1].set_ylabel(\"Injected current (pA)\")\n",
    "sns.despine()"
   ]
  },
  {
   "cell_type": "markdown",
   "metadata": {},
   "source": [
    "## Set up IPFX Feature Extractors to work on ABF-based SweepSet object"
   ]
  },
  {
   "cell_type": "code",
   "execution_count": 28,
   "metadata": {},
   "outputs": [],
   "source": [
    "from ipfx.feature_extractor import SpikeTrainFeatureExtractor, SpikeFeatureExtractor\n",
    "from ipfx.stimulus_protocol_analysis import LongSquareAnalysis\n",
    "\n",
    "start_time = .1 # start time of stimulus\n",
    "end_time = .7 # end time of stimulus\n",
    "\n",
    "bessel_filter_khz = 1\n",
    "subthresh_min_amp = -500 # what minimum stimulus amplitude (in pA) to consider for analysis\n",
    "\n",
    "spike_extractor = SpikeFeatureExtractor(start=start_time, end=end_time, filter = bessel_filter_khz)\n",
    "spike_train_extractor = SpikeTrainFeatureExtractor(start=start_time, end=end_time, baseline_interval = .05)\n",
    "\n",
    "# Create the analysis object\n",
    "lsa = LongSquareAnalysis(spx=spike_extractor,\n",
    "                         sptx=spike_train_extractor,\n",
    "                         subthresh_min_amp= subthresh_min_amp \n",
    "                        )"
   ]
  },
  {
   "cell_type": "markdown",
   "metadata": {},
   "source": [
    "## Extract electrophysiology features automatically using the IPFX Feature Extractors"
   ]
  },
  {
   "cell_type": "code",
   "execution_count": 29,
   "metadata": {},
   "outputs": [
    {
     "name": "stderr",
     "output_type": "stream",
     "text": [
      "/Users/noahjacobs/anaconda3/lib/python3.7/site-packages/ipfx/spike_features.py:87: RuntimeWarning: invalid value encountered in less\n",
      "  width_levels[width_levels < v[spike_indexes]] = thresh_to_peak_levels[width_levels < v[spike_indexes]]\n"
     ]
    },
    {
     "data": {
      "text/plain": [
       "adapt                           -0.0169154\n",
       "avg_rate                                 5\n",
       "first_isi                          0.16352\n",
       "isi_cv                           0.0169154\n",
       "latency                            0.12848\n",
       "mean_isi                            0.1608\n",
       "median_isi                          0.1608\n",
       "peak_deflect    (40.682822465896606, 5746)\n",
       "sag                               -14.3917\n",
       "stim_amp                               100\n",
       "v_baseline                        -62.3399\n",
       "Name: 14, dtype: object"
      ]
     },
     "execution_count": 29,
     "metadata": {},
     "output_type": "execute_result"
    }
   ],
   "source": [
    "# We can analyze features using a single line below!\n",
    "lsa_results = lsa.analyze(sweep_list)\n",
    "\n",
    "# lsa_results has a lot of information that was extracted automatically!\n",
    "\n",
    "# let's now look at the data that was automatically extracted for the rheobase sweep\n",
    "lsa_results['rheobase_sweep']"
   ]
  }
 ],
 "metadata": {
  "kernelspec": {
   "display_name": "Python 3",
   "language": "python",
   "name": "python3"
  },
  "language_info": {
   "codemirror_mode": {
    "name": "ipython",
    "version": 3
   },
   "file_extension": ".py",
   "mimetype": "text/x-python",
   "name": "python",
   "nbconvert_exporter": "python",
   "pygments_lexer": "ipython3",
   "version": "3.7.3"
  }
 },
 "nbformat": 4,
 "nbformat_minor": 2
}
