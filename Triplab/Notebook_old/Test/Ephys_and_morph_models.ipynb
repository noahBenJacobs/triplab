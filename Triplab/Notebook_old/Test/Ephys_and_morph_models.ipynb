{
 "cells": [
  {
   "cell_type": "code",
   "execution_count": 1,
   "metadata": {},
   "outputs": [],
   "source": [
    "from allensdk.core.cell_types_cache import CellTypesCache\n",
    "from allensdk.api.queries.cell_types_api import CellTypesApi\n",
    "import pandas as pd\n",
    "import numpy as np\n",
    "from sklearn.datasets import load_iris\n",
    "from sklearn.linear_model import LogisticRegression\n",
    "from sklearn import linear_model\n",
    "from sklearn import datasets\n",
    "from sklearn.feature_selection import RFE\n",
    "from sklearn import metrics\n",
    "from sklearn.preprocessing import StandardScaler\n",
    "file = \"/Users/noahjacobs/Triplab/Notebook_old/Test\""
   ]
  },
  {
   "cell_type": "code",
   "execution_count": 2,
   "metadata": {},
   "outputs": [],
   "source": [
    "# Initialize the cache and dget the metadata for cells, download if neccessary (to current directory)\n",
    "ctc = CellTypesCache(manifest_file='cell_types/manifest.json')\n",
    "cells = ctc.get_cells()\n",
    "\n",
    "# Get the ephys features of all cells, download if neccessary\n",
    "ephys_features = ctc.get_ephys_features()\n",
    "\n",
    "ef_df = pd.DataFrame(ephys_features)\n",
    "\n",
    "# List of all ephys feature names\n",
    "ephys_features = list(ef_df)"
   ]
  },
  {
   "cell_type": "code",
   "execution_count": 3,
   "metadata": {},
   "outputs": [
    {
     "name": "stderr",
     "output_type": "stream",
     "text": [
      "/Users/noahjacobs/anaconda3/lib/python3.7/site-packages/ipykernel_launcher.py:21: FutureWarning: set_value is deprecated and will be removed in a future release. Please use .at[] or .iat[] accessors instead\n"
     ]
    },
    {
     "name": "stdout",
     "output_type": "stream",
     "text": [
      "105 cells dropped.\n"
     ]
    }
   ],
   "source": [
    "#Drops bad cells\n",
    "\n",
    "cell_index = {c['id']: c for c in cells}\n",
    "\n",
    "# Label species, human (Homo Sapiens) or mouse (Mus musculus)\n",
    "cell_types = [cell_index[cid]['species'] for cid in ef_df['specimen_id']]\n",
    "\n",
    "ef_df['species'] = pd.Series(cell_types, index=ef_df.index)\n",
    "\n",
    "\n",
    "# Label cre line\n",
    "cell_index = {c['id']: c for c in cells}\n",
    "cre_line = [cell_index[cid]['transgenic_line'] for cid in\n",
    "                  ef_df['specimen_id']]\n",
    "\n",
    "ef_df['cre_line'] = pd.Series(cre_line, index=ef_df.index)\n",
    "\n",
    "# Set label cre line of human cells to 'Human'\n",
    "for index, row in ef_df.iterrows():\n",
    "    if \"Homo Sapiens\" in set(row):\n",
    "        ef_df.set_value(index, 'cre_line', 'Human')\n",
    "\n",
    "# Label dendrite type, spiny, aspiny, or sparsely spiny\n",
    "dendrite_type = [cell_index[cid]['dendrite_type'] for cid in\n",
    "                  ef_df['specimen_id']]\n",
    "\n",
    "ef_df['dendrite_type'] = pd.Series(dendrite_type, index=ef_df.index)\n",
    "\n",
    "#Drop cells without reporter_status = positive\n",
    "dropped_cells = []\n",
    "for x in cell_index:\n",
    "    if cell_index[x]['species'] == 'Mus musculus':\n",
    "        #print(cell_index[x]['reporter_status'])\n",
    "        if cell_index[x]['reporter_status'] != 'positive':\n",
    "            #dropped_cells++\n",
    "            dropped_cells.append(x)\n",
    "            \n",
    "            \n",
    "for x in dropped_cells:\n",
    "    cell_index.pop(x)\n",
    "print('{} cells dropped.'.format(len(dropped_cells)))"
   ]
  },
  {
   "cell_type": "code",
   "execution_count": 4,
   "metadata": {},
   "outputs": [
    {
     "name": "stdout",
     "output_type": "stream",
     "text": [
      "\n",
      "25 features dropped.\n",
      "30 features in dataframe.\n"
     ]
    }
   ],
   "source": [
    "# Create a list of features that are to be dropped. Example: specimen id and data containing NaN\n",
    "dropped_features = ['id', 'rheobase_sweep_id', 'rheobase_sweep_number',\n",
    "                    'thumbnail_sweep_id', 'seal_gohm','vm_for_sag']\n",
    "print()\n",
    "# Find features with missing data\n",
    "for index, column in ef_df.iteritems():\n",
    "    na_array = pd.isna(column)\n",
    "    for values in na_array:\n",
    "        if values == True:\n",
    "              if column.name not in dropped_features:\n",
    "                    dropped_features.append(column.name)\n",
    "\n",
    "\n",
    "dropped_features.sort()\n",
    "\n",
    "# Drop the list of ephys features used for PCA.\n",
    "for dropped_item in dropped_features:\n",
    "    ephys_features.remove(dropped_item)\n",
    "ephys_features.remove('specimen_id')\n",
    "\n",
    "print('{} features dropped.'.format(len(dropped_features)))\n",
    "print('{} features in dataframe.'.format(len(ephys_features)))\n",
    "\n",
    "# Drop the features in the main dataframe.\n",
    "ef_df.drop(columns=dropped_features, axis = 1, inplace = True)\n"
   ]
  },
  {
   "cell_type": "code",
   "execution_count": 5,
   "metadata": {},
   "outputs": [],
   "source": [
    "#Creates numeric values for dendrite_type\n",
    "numeric_dendrite = []\n",
    "\n",
    "for i in ef_df['dendrite_type']:\n",
    "    if i == 'spiny':\n",
    "        numeric_dendrite.append(0)\n",
    "    elif i == 'aspiny':\n",
    "        numeric_dendrite.append(1)\n",
    "    elif i == 'sparsely spiny':\n",
    "        numeric_dendrite.append(2)\n",
    "    else:\n",
    "        numeric_dendrite.append(-1)\n",
    "    \n",
    "ef_df.insert(34, \"numeric_dendrite_type\", numeric_dendrite)\n",
    "ef_df.to_csv(path_or_buf= file + \"/ef_df.csv\")"
   ]
  },
  {
   "cell_type": "code",
   "execution_count": 6,
   "metadata": {},
   "outputs": [
    {
     "name": "stdout",
     "output_type": "stream",
     "text": [
      "Total number of human cells with electrophysiology features: 413\n",
      "Number of human spiny cells: 321\n",
      "Number of human aspiny cells: 79\n",
      "Number of human sparsely spiny cells: 13\n",
      "\n",
      "Total number of mouse cells with electrophysiology features: 1920\n",
      "Number of mouse spiny cells: 892\n",
      "Number of mouse aspiny cells: 921\n",
      "Number of mouse sparsely spiny cells: 107\n"
     ]
    }
   ],
   "source": [
    "# Mouse dataframe\n",
    "mouse_ef_df = ef_df[ef_df['species']=='Mus musculus']\n",
    "# Human dataframe\n",
    "human_ef_df = ef_df[ef_df['species']=='Homo Sapiens']\n",
    "\n",
    "print('Total number of human cells with electrophysiology features: {}'.format(len(human_ef_df)))\n",
    "print('Number of human spiny cells: {}'.format(len(human_ef_df[human_ef_df['dendrite_type']=='spiny'])))\n",
    "print('Number of human aspiny cells: {}'.format(len(human_ef_df[human_ef_df['dendrite_type']=='aspiny'])))\n",
    "print('Number of human sparsely spiny cells: {}\\n'.format(len(human_ef_df[human_ef_df['dendrite_type']=='sparsely spiny'])))\n",
    "\n",
    "print('Total number of mouse cells with electrophysiology features: {}'.format(len(mouse_ef_df)))\n",
    "print('Number of mouse spiny cells: {}'.format(len(mouse_ef_df[mouse_ef_df['dendrite_type']=='spiny'])))\n",
    "print('Number of mouse aspiny cells: {}'.format(len(mouse_ef_df[mouse_ef_df['dendrite_type']=='aspiny'])))\n",
    "print('Number of mouse sparsely spiny cells: {}'.format(len(mouse_ef_df[mouse_ef_df['dendrite_type']=='sparsely spiny'])))"
   ]
  },
  {
   "cell_type": "code",
   "execution_count": 7,
   "metadata": {},
   "outputs": [],
   "source": [
    "csv2 = pd.read_excel(file + \"/e-types_Allen.xlsx\")\n",
    "e_type = ef_df.merge(csv2,on='specimen_id')\n",
    "e_type = e_type.dropna(axis = 0, subset=['e-type'])\n",
    "\n",
    "m_type= ef_df.merge(csv2,on='specimen_id')\n",
    "m_type = m_type.dropna(axis = 0, subset=['m-type'])\n",
    "\n",
    "allen_e_type = csv2.loc[:,csv2.columns.intersection(['specimen_id','e-type'])]\n",
    "allen_m_type = csv2.loc[:,csv2.columns.intersection(['specimen_id','m-type'])]\n",
    "allen_me_type = csv2.loc[:,csv2.columns.intersection(['specimen_id','me-type'])]"
   ]
  },
  {
   "cell_type": "code",
   "execution_count": 8,
   "metadata": {},
   "outputs": [],
   "source": [
    "mouse_e_type = e_type[e_type['species']=='Mus musculus']\n",
    "human_e_type = e_type[e_type['species']=='Homo Sapiens']"
   ]
  },
  {
   "cell_type": "code",
   "execution_count": 9,
   "metadata": {},
   "outputs": [],
   "source": [
    "# download all morphology features for cells with reconstructions\n",
    "jmorph_features = ctc.get_morphology_features()\n",
    "\n",
    "# convert to a pandas DataFrame\n",
    "jmorph_features = pd.DataFrame(jmorph_features)\n",
    "\n",
    "species_id = ef_df.loc[:, ef_df.columns.intersection(['specimen_id','species'])]\n",
    "\n",
    "jmorph_features = jmorph_features.drop(columns=['hausdorff_dimension','average_bifurcation_angle_remote',\n",
    "                                              'neuron_reconstruction_type','superseded','tags','id'])\n",
    "\n",
    "morph_features = jmorph_features.merge(species_id,on='specimen_id')\n",
    "\n",
    "mouse_morph = morph_features[morph_features['species']=='Mus musculus']\n",
    "human_morph = morph_features[morph_features['species']=='Homo Sapiens']\n",
    "\n",
    "pred_morph_features = list(morph_features)\n",
    "pred_morph_features.remove('specimen_id')\n",
    "pred_morph_features.remove('species')"
   ]
  },
  {
   "cell_type": "code",
   "execution_count": 10,
   "metadata": {},
   "outputs": [],
   "source": [
    "#creates variables for models which use ephys and morph data\n",
    "pred_ephys_features = ephys_features.copy()\n",
    "all_features = jmorph_features.merge(ef_df, on='specimen_id')\n",
    "mouse_all = all_features[all_features['species']=='Mus musculus']\n",
    "human_all = all_features[all_features['species']=='Homo Sapiens']\n",
    "pred_all_features = list(set(pred_ephys_features + pred_morph_features))\n",
    "                              "
   ]
  },
  {
   "cell_type": "code",
   "execution_count": 11,
   "metadata": {},
   "outputs": [
    {
     "name": "stdout",
     "output_type": "stream",
     "text": [
      "['f_i_curve_slope', 'fast_trough_t_long_square', 'fast_trough_t_short_square', 'fast_trough_v_long_square', 'fast_trough_v_short_square', 'has_burst', 'has_delay', 'has_pause', 'input_resistance_mohm', 'latency', 'peak_t_long_square', 'peak_t_short_square', 'peak_v_long_square', 'peak_v_short_square', 'ri', 'sag', 'tau', 'threshold_i_long_square', 'threshold_i_short_square', 'threshold_t_long_square', 'threshold_t_short_square', 'threshold_v_long_square', 'threshold_v_short_square', 'trough_t_long_square', 'trough_t_short_square', 'trough_v_long_square', 'trough_v_short_square', 'upstroke_downstroke_ratio_long_square', 'upstroke_downstroke_ratio_short_square', 'vrest']\n"
     ]
    },
    {
     "name": "stderr",
     "output_type": "stream",
     "text": [
      "/Users/noahjacobs/anaconda3/lib/python3.7/site-packages/sklearn/linear_model/logistic.py:460: FutureWarning: Default multi_class will be changed to 'auto' in 0.22. Specify the multi_class option to silence this warning.\n",
      "  \"this warning.\", FutureWarning)\n",
      "/Users/noahjacobs/anaconda3/lib/python3.7/site-packages/sklearn/linear_model/sag.py:334: ConvergenceWarning: The max_iter was reached which means the coef_ did not converge\n",
      "  \"the coef_ did not converge\", ConvergenceWarning)\n"
     ]
    },
    {
     "name": "stdout",
     "output_type": "stream",
     "text": [
      "Creating model for predicting dendrite_type. Testing on mouse data:\n"
     ]
    },
    {
     "data": {
      "text/plain": [
       "0.8572916666666667"
      ]
     },
     "execution_count": 11,
     "metadata": {},
     "output_type": "execute_result"
    }
   ],
   "source": [
    "#Dendrite model creation\n",
    "\n",
    "pred_ephys_features = ephys_features.copy()\n",
    "print(pred_ephys_features)\n",
    "\n",
    "X = mouse_ef_df.loc[:, pred_ephys_features].values\n",
    "y = mouse_ef_df.loc[:, 'dendrite_type'].values\n",
    "\n",
    "e_dendrite_model = linear_model.LogisticRegression(penalty='l1', solver='saga', max_iter=100)\n",
    "e_dendrite_model.fit(X,y)\n",
    "print('Creating model for predicting dendrite_type. Testing on mouse data:')\n",
    "\n",
    "\n",
    "e_dendrite_model.score(X, y)"
   ]
  },
  {
   "cell_type": "code",
   "execution_count": 12,
   "metadata": {},
   "outputs": [
    {
     "data": {
      "text/plain": [
       "'pred_all_features.dropna()\\npred_ephys_features.dropna()\\npred_morph_features.dropna()'"
      ]
     },
     "execution_count": 12,
     "metadata": {},
     "output_type": "execute_result"
    }
   ],
   "source": [
    "pred_ephys_features2 = pred_ephys_features.copy()\n",
    "pred_ephys_features.append('numeric_dendrite_type')\n",
    "pred_all_features.append('numeric_dendrite_type')\n",
    "#pred_morph_features.append('numeric_dendrite_type')\n",
    "'''pred_all_features.dropna()\n",
    "pred_ephys_features.dropna()\n",
    "pred_morph_features.dropna()'''\n",
    "\n"
   ]
  },
  {
   "cell_type": "code",
   "execution_count": 13,
   "metadata": {},
   "outputs": [
    {
     "name": "stderr",
     "output_type": "stream",
     "text": [
      "/Users/noahjacobs/anaconda3/lib/python3.7/site-packages/sklearn/utils/validation.py:595: DataConversionWarning: Data with input dtype object was converted to float64 by StandardScaler.\n",
      "  warnings.warn(msg, DataConversionWarning)\n",
      "/Users/noahjacobs/anaconda3/lib/python3.7/site-packages/sklearn/utils/validation.py:595: DataConversionWarning: Data with input dtype object was converted to float64 by StandardScaler.\n",
      "  warnings.warn(msg, DataConversionWarning)\n",
      "/Users/noahjacobs/anaconda3/lib/python3.7/site-packages/sklearn/linear_model/logistic.py:460: FutureWarning: Default multi_class will be changed to 'auto' in 0.22. Specify the multi_class option to silence this warning.\n",
      "  \"this warning.\", FutureWarning)\n",
      "/Users/noahjacobs/anaconda3/lib/python3.7/site-packages/sklearn/linear_model/sag.py:334: ConvergenceWarning: The max_iter was reached which means the coef_ did not converge\n",
      "  \"the coef_ did not converge\", ConvergenceWarning)\n"
     ]
    },
    {
     "name": "stdout",
     "output_type": "stream",
     "text": [
      "Creating model for predicting creline. Testing on mouse data:\n"
     ]
    },
    {
     "name": "stderr",
     "output_type": "stream",
     "text": [
      "/Users/noahjacobs/anaconda3/lib/python3.7/site-packages/sklearn/utils/validation.py:595: DataConversionWarning: Data with input dtype object was converted to float64 by StandardScaler.\n",
      "  warnings.warn(msg, DataConversionWarning)\n",
      "/Users/noahjacobs/anaconda3/lib/python3.7/site-packages/sklearn/utils/validation.py:595: DataConversionWarning: Data with input dtype object was converted to float64 by StandardScaler.\n",
      "  warnings.warn(msg, DataConversionWarning)\n"
     ]
    },
    {
     "data": {
      "text/plain": [
       "0.47760416666666666"
      ]
     },
     "execution_count": 13,
     "metadata": {},
     "output_type": "execute_result"
    }
   ],
   "source": [
    "#Cre_line model creation\n",
    "N = mouse_ef_df.loc[:, pred_ephys_features].values\n",
    "b = mouse_ef_df.loc[:, 'cre_line'].values\n",
    "\n",
    "e_cre_line_model = linear_model.LogisticRegression(penalty='l1', solver='saga', max_iter=100)\n",
    "fiter = e_cre_line_model.fit(StandardScaler().fit_transform(N),b)\n",
    "print('Creating model for predicting creline. Testing on mouse data:')\n",
    "e_cre_line_model.score(StandardScaler().fit_transform(N), b)\n"
   ]
  },
  {
   "cell_type": "code",
   "execution_count": 14,
   "metadata": {},
   "outputs": [
    {
     "name": "stderr",
     "output_type": "stream",
     "text": [
      "/Users/noahjacobs/anaconda3/lib/python3.7/site-packages/sklearn/utils/validation.py:595: DataConversionWarning: Data with input dtype object was converted to float64 by StandardScaler.\n",
      "  warnings.warn(msg, DataConversionWarning)\n",
      "/Users/noahjacobs/anaconda3/lib/python3.7/site-packages/sklearn/utils/validation.py:595: DataConversionWarning: Data with input dtype object was converted to float64 by StandardScaler.\n",
      "  warnings.warn(msg, DataConversionWarning)\n",
      "/Users/noahjacobs/anaconda3/lib/python3.7/site-packages/sklearn/linear_model/logistic.py:460: FutureWarning: Default multi_class will be changed to 'auto' in 0.22. Specify the multi_class option to silence this warning.\n",
      "  \"this warning.\", FutureWarning)\n",
      "/Users/noahjacobs/anaconda3/lib/python3.7/site-packages/sklearn/linear_model/sag.py:334: ConvergenceWarning: The max_iter was reached which means the coef_ did not converge\n",
      "  \"the coef_ did not converge\", ConvergenceWarning)\n",
      "/Users/noahjacobs/anaconda3/lib/python3.7/site-packages/sklearn/utils/validation.py:595: DataConversionWarning: Data with input dtype object was converted to float64 by StandardScaler.\n",
      "  warnings.warn(msg, DataConversionWarning)\n",
      "/Users/noahjacobs/anaconda3/lib/python3.7/site-packages/sklearn/utils/validation.py:595: DataConversionWarning: Data with input dtype object was converted to float64 by StandardScaler.\n",
      "  warnings.warn(msg, DataConversionWarning)\n"
     ]
    },
    {
     "data": {
      "text/plain": [
       "0.769520732364028"
      ]
     },
     "execution_count": 14,
     "metadata": {},
     "output_type": "execute_result"
    }
   ],
   "source": [
    "#using ephys to predict e_type\n",
    "temp = mouse_ef_df.merge(allen_e_type,on='specimen_id')\n",
    "temp = temp.dropna()\n",
    "\n",
    "X = temp.loc[:, pred_ephys_features].values\n",
    "y = temp.loc[:, 'e-type'].values\n",
    "\n",
    "e_e_type_model = linear_model.LogisticRegression(penalty='l1', solver='saga', max_iter=100)\n",
    "fiter2 = e_e_type_model.fit(StandardScaler().fit_transform(X),y)\n",
    "\n",
    "e_e_type_model.score(StandardScaler().fit_transform(X), y)"
   ]
  },
  {
   "cell_type": "code",
   "execution_count": 15,
   "metadata": {},
   "outputs": [
    {
     "name": "stderr",
     "output_type": "stream",
     "text": [
      "/Users/noahjacobs/anaconda3/lib/python3.7/site-packages/sklearn/linear_model/logistic.py:460: FutureWarning: Default multi_class will be changed to 'auto' in 0.22. Specify the multi_class option to silence this warning.\n",
      "  \"this warning.\", FutureWarning)\n",
      "/Users/noahjacobs/anaconda3/lib/python3.7/site-packages/sklearn/linear_model/sag.py:334: ConvergenceWarning: The max_iter was reached which means the coef_ did not converge\n",
      "  \"the coef_ did not converge\", ConvergenceWarning)\n"
     ]
    },
    {
     "data": {
      "text/plain": [
       "0.5582329317269076"
      ]
     },
     "execution_count": 15,
     "metadata": {},
     "output_type": "execute_result"
    }
   ],
   "source": [
    "#model using morph to predict e_type\n",
    "temp = mouse_morph.merge(allen_e_type,on='specimen_id')\n",
    "temp = temp.dropna()\n",
    "\n",
    "\n",
    "X = temp.loc[:, pred_morph_features].values\n",
    "y = temp.loc[:, 'e-type'].values\n",
    "\n",
    "#m_e_type_model uses morphology to predict e-type\n",
    "\n",
    "m_e_type_model = linear_model.LogisticRegression(penalty='l1', solver='saga', max_iter=100)\n",
    "fiter2 = m_e_type_model.fit(StandardScaler().fit_transform(X),y)\n",
    "\n",
    "m_e_type_model.score(StandardScaler().fit_transform(X), y)"
   ]
  },
  {
   "cell_type": "code",
   "execution_count": 16,
   "metadata": {},
   "outputs": [
    {
     "name": "stderr",
     "output_type": "stream",
     "text": [
      "/Users/noahjacobs/anaconda3/lib/python3.7/site-packages/sklearn/utils/validation.py:595: DataConversionWarning: Data with input dtype object was converted to float64 by StandardScaler.\n",
      "  warnings.warn(msg, DataConversionWarning)\n",
      "/Users/noahjacobs/anaconda3/lib/python3.7/site-packages/sklearn/utils/validation.py:595: DataConversionWarning: Data with input dtype object was converted to float64 by StandardScaler.\n",
      "  warnings.warn(msg, DataConversionWarning)\n",
      "/Users/noahjacobs/anaconda3/lib/python3.7/site-packages/sklearn/linear_model/logistic.py:460: FutureWarning: Default multi_class will be changed to 'auto' in 0.22. Specify the multi_class option to silence this warning.\n",
      "  \"this warning.\", FutureWarning)\n",
      "/Users/noahjacobs/anaconda3/lib/python3.7/site-packages/sklearn/linear_model/sag.py:334: ConvergenceWarning: The max_iter was reached which means the coef_ did not converge\n",
      "  \"the coef_ did not converge\", ConvergenceWarning)\n",
      "/Users/noahjacobs/anaconda3/lib/python3.7/site-packages/sklearn/utils/validation.py:595: DataConversionWarning: Data with input dtype object was converted to float64 by StandardScaler.\n",
      "  warnings.warn(msg, DataConversionWarning)\n",
      "/Users/noahjacobs/anaconda3/lib/python3.7/site-packages/sklearn/utils/validation.py:595: DataConversionWarning: Data with input dtype object was converted to float64 by StandardScaler.\n",
      "  warnings.warn(msg, DataConversionWarning)\n"
     ]
    },
    {
     "data": {
      "text/plain": [
       "0.893574297188755"
      ]
     },
     "execution_count": 16,
     "metadata": {},
     "output_type": "execute_result"
    }
   ],
   "source": [
    "#model using morph and ephys to predict e_type\n",
    "temp = mouse_all.merge(allen_e_type,on='specimen_id')\n",
    "temp = temp.dropna()\n",
    "\n",
    "X = temp.loc[:, pred_all_features].values\n",
    "y = temp.loc[:, 'e-type'].values\n",
    "\n",
    "me_e_type_model = linear_model.LogisticRegression(penalty='l1', solver='saga', max_iter=1000)\n",
    "fiter2 = me_e_type_model.fit(StandardScaler().fit_transform(X),y)\n",
    "\n",
    "me_e_type_model.score(StandardScaler().fit_transform(X), y)"
   ]
  },
  {
   "cell_type": "code",
   "execution_count": 17,
   "metadata": {},
   "outputs": [
    {
     "name": "stderr",
     "output_type": "stream",
     "text": [
      "/Users/noahjacobs/anaconda3/lib/python3.7/site-packages/sklearn/utils/validation.py:595: DataConversionWarning: Data with input dtype object was converted to float64 by StandardScaler.\n",
      "  warnings.warn(msg, DataConversionWarning)\n",
      "/Users/noahjacobs/anaconda3/lib/python3.7/site-packages/sklearn/utils/validation.py:595: DataConversionWarning: Data with input dtype object was converted to float64 by StandardScaler.\n",
      "  warnings.warn(msg, DataConversionWarning)\n",
      "/Users/noahjacobs/anaconda3/lib/python3.7/site-packages/sklearn/linear_model/logistic.py:460: FutureWarning: Default multi_class will be changed to 'auto' in 0.22. Specify the multi_class option to silence this warning.\n",
      "  \"this warning.\", FutureWarning)\n",
      "/Users/noahjacobs/anaconda3/lib/python3.7/site-packages/sklearn/linear_model/sag.py:334: ConvergenceWarning: The max_iter was reached which means the coef_ did not converge\n",
      "  \"the coef_ did not converge\", ConvergenceWarning)\n",
      "/Users/noahjacobs/anaconda3/lib/python3.7/site-packages/sklearn/utils/validation.py:595: DataConversionWarning: Data with input dtype object was converted to float64 by StandardScaler.\n",
      "  warnings.warn(msg, DataConversionWarning)\n",
      "/Users/noahjacobs/anaconda3/lib/python3.7/site-packages/sklearn/utils/validation.py:595: DataConversionWarning: Data with input dtype object was converted to float64 by StandardScaler.\n",
      "  warnings.warn(msg, DataConversionWarning)\n"
     ]
    },
    {
     "data": {
      "text/plain": [
       "0.5124716553287982"
      ]
     },
     "execution_count": 17,
     "metadata": {},
     "output_type": "execute_result"
    }
   ],
   "source": [
    "#model using ephys to predict m_type\n",
    "temp = mouse_ef_df.merge(allen_m_type,on='specimen_id')\n",
    "temp = temp.dropna()\n",
    "\n",
    "X = temp.loc[:, pred_ephys_features].values\n",
    "y = temp.loc[:, 'm-type'].values\n",
    "\n",
    "e_m_type_model = linear_model.LogisticRegression(penalty='l1', solver='saga', max_iter=100)\n",
    "fiter2 = e_m_type_model.fit(StandardScaler().fit_transform(X),y)\n",
    "\n",
    "e_m_type_model.score(StandardScaler().fit_transform(X), y)"
   ]
  },
  {
   "cell_type": "code",
   "execution_count": 18,
   "metadata": {},
   "outputs": [
    {
     "name": "stderr",
     "output_type": "stream",
     "text": [
      "/Users/noahjacobs/anaconda3/lib/python3.7/site-packages/sklearn/linear_model/logistic.py:460: FutureWarning: Default multi_class will be changed to 'auto' in 0.22. Specify the multi_class option to silence this warning.\n",
      "  \"this warning.\", FutureWarning)\n",
      "/Users/noahjacobs/anaconda3/lib/python3.7/site-packages/sklearn/linear_model/sag.py:334: ConvergenceWarning: The max_iter was reached which means the coef_ did not converge\n",
      "  \"the coef_ did not converge\", ConvergenceWarning)\n"
     ]
    },
    {
     "data": {
      "text/plain": [
       "0.5381062355658198"
      ]
     },
     "execution_count": 18,
     "metadata": {},
     "output_type": "execute_result"
    }
   ],
   "source": [
    "#model using morph to predict m_type\n",
    "temp = mouse_morph.merge(allen_m_type,on='specimen_id')\n",
    "temp = temp.dropna()\n",
    "\n",
    "X = temp.loc[:, pred_morph_features].values\n",
    "y = temp.loc[:, 'm-type'].values\n",
    "\n",
    "m_m_type_model = linear_model.LogisticRegression(penalty='l1', solver='saga', max_iter=100)\n",
    "fiter2 = m_m_type_model.fit(StandardScaler().fit_transform(X),y)\n",
    "\n",
    "m_m_type_model.score(StandardScaler().fit_transform(X), y)"
   ]
  },
  {
   "cell_type": "code",
   "execution_count": 19,
   "metadata": {},
   "outputs": [
    {
     "name": "stderr",
     "output_type": "stream",
     "text": [
      "/Users/noahjacobs/anaconda3/lib/python3.7/site-packages/sklearn/utils/validation.py:595: DataConversionWarning: Data with input dtype object was converted to float64 by StandardScaler.\n",
      "  warnings.warn(msg, DataConversionWarning)\n",
      "/Users/noahjacobs/anaconda3/lib/python3.7/site-packages/sklearn/utils/validation.py:595: DataConversionWarning: Data with input dtype object was converted to float64 by StandardScaler.\n",
      "  warnings.warn(msg, DataConversionWarning)\n",
      "/Users/noahjacobs/anaconda3/lib/python3.7/site-packages/sklearn/linear_model/logistic.py:460: FutureWarning: Default multi_class will be changed to 'auto' in 0.22. Specify the multi_class option to silence this warning.\n",
      "  \"this warning.\", FutureWarning)\n",
      "/Users/noahjacobs/anaconda3/lib/python3.7/site-packages/sklearn/linear_model/sag.py:334: ConvergenceWarning: The max_iter was reached which means the coef_ did not converge\n",
      "  \"the coef_ did not converge\", ConvergenceWarning)\n",
      "/Users/noahjacobs/anaconda3/lib/python3.7/site-packages/sklearn/utils/validation.py:595: DataConversionWarning: Data with input dtype object was converted to float64 by StandardScaler.\n",
      "  warnings.warn(msg, DataConversionWarning)\n",
      "/Users/noahjacobs/anaconda3/lib/python3.7/site-packages/sklearn/utils/validation.py:595: DataConversionWarning: Data with input dtype object was converted to float64 by StandardScaler.\n",
      "  warnings.warn(msg, DataConversionWarning)\n"
     ]
    },
    {
     "data": {
      "text/plain": [
       "0.7413394919168591"
      ]
     },
     "execution_count": 19,
     "metadata": {},
     "output_type": "execute_result"
    }
   ],
   "source": [
    "#model using morph and ephys to predict m_type\n",
    "temp = mouse_all.merge(allen_m_type,on='specimen_id')\n",
    "temp = temp.dropna()\n",
    "\n",
    "X = temp.loc[:, pred_all_features].values\n",
    "y = temp.loc[:, 'm-type'].values\n",
    "\n",
    "me_m_type_model = linear_model.LogisticRegression(penalty='l1', solver='saga', max_iter=100)\n",
    "fiter2 = me_m_type_model.fit(StandardScaler().fit_transform(X),y)\n",
    "\n",
    "me_m_type_model.score(StandardScaler().fit_transform(X), y)"
   ]
  },
  {
   "cell_type": "code",
   "execution_count": 20,
   "metadata": {},
   "outputs": [
    {
     "name": "stderr",
     "output_type": "stream",
     "text": [
      "/Users/noahjacobs/anaconda3/lib/python3.7/site-packages/sklearn/utils/validation.py:595: DataConversionWarning: Data with input dtype object was converted to float64 by StandardScaler.\n",
      "  warnings.warn(msg, DataConversionWarning)\n",
      "/Users/noahjacobs/anaconda3/lib/python3.7/site-packages/sklearn/utils/validation.py:595: DataConversionWarning: Data with input dtype object was converted to float64 by StandardScaler.\n",
      "  warnings.warn(msg, DataConversionWarning)\n",
      "/Users/noahjacobs/anaconda3/lib/python3.7/site-packages/sklearn/linear_model/logistic.py:460: FutureWarning: Default multi_class will be changed to 'auto' in 0.22. Specify the multi_class option to silence this warning.\n",
      "  \"this warning.\", FutureWarning)\n",
      "/Users/noahjacobs/anaconda3/lib/python3.7/site-packages/sklearn/linear_model/sag.py:334: ConvergenceWarning: The max_iter was reached which means the coef_ did not converge\n",
      "  \"the coef_ did not converge\", ConvergenceWarning)\n",
      "/Users/noahjacobs/anaconda3/lib/python3.7/site-packages/sklearn/utils/validation.py:595: DataConversionWarning: Data with input dtype object was converted to float64 by StandardScaler.\n",
      "  warnings.warn(msg, DataConversionWarning)\n",
      "/Users/noahjacobs/anaconda3/lib/python3.7/site-packages/sklearn/utils/validation.py:595: DataConversionWarning: Data with input dtype object was converted to float64 by StandardScaler.\n",
      "  warnings.warn(msg, DataConversionWarning)\n"
     ]
    },
    {
     "data": {
      "text/plain": [
       "0.663594470046083"
      ]
     },
     "execution_count": 20,
     "metadata": {},
     "output_type": "execute_result"
    }
   ],
   "source": [
    "#model using ephys to predict me_type\n",
    "temp = mouse_ef_df.merge(allen_me_type,on='specimen_id')\n",
    "temp = temp.dropna()\n",
    "\n",
    "X = temp.loc[:, pred_ephys_features].values\n",
    "y = temp.loc[:, 'me-type'].values\n",
    "\n",
    "e_me_type_model = linear_model.LogisticRegression(penalty='l1', solver='saga', max_iter=100)\n",
    "fiter2 = e_me_type_model.fit(StandardScaler().fit_transform(X),y)\n",
    "\n",
    "e_me_type_model.score(StandardScaler().fit_transform(X), y)"
   ]
  },
  {
   "cell_type": "code",
   "execution_count": 21,
   "metadata": {},
   "outputs": [
    {
     "name": "stderr",
     "output_type": "stream",
     "text": [
      "/Users/noahjacobs/anaconda3/lib/python3.7/site-packages/sklearn/linear_model/logistic.py:460: FutureWarning: Default multi_class will be changed to 'auto' in 0.22. Specify the multi_class option to silence this warning.\n",
      "  \"this warning.\", FutureWarning)\n",
      "/Users/noahjacobs/anaconda3/lib/python3.7/site-packages/sklearn/linear_model/sag.py:334: ConvergenceWarning: The max_iter was reached which means the coef_ did not converge\n",
      "  \"the coef_ did not converge\", ConvergenceWarning)\n"
     ]
    },
    {
     "data": {
      "text/plain": [
       "0.5633802816901409"
      ]
     },
     "execution_count": 21,
     "metadata": {},
     "output_type": "execute_result"
    }
   ],
   "source": [
    "#model using morph to predict me_type\n",
    "temp = mouse_morph.merge(allen_me_type,on='specimen_id')\n",
    "temp = temp.dropna()\n",
    "\n",
    "X = temp.loc[:, pred_morph_features].values\n",
    "y = temp.loc[:, 'me-type'].values\n",
    "\n",
    "m_me_type_model = linear_model.LogisticRegression(penalty='l1', solver='saga', max_iter=100)\n",
    "fiter2 = m_me_type_model.fit(StandardScaler().fit_transform(X),y)\n",
    "\n",
    "m_me_type_model.score(StandardScaler().fit_transform(X), y)"
   ]
  },
  {
   "cell_type": "code",
   "execution_count": 22,
   "metadata": {},
   "outputs": [
    {
     "name": "stderr",
     "output_type": "stream",
     "text": [
      "/Users/noahjacobs/anaconda3/lib/python3.7/site-packages/sklearn/utils/validation.py:595: DataConversionWarning: Data with input dtype object was converted to float64 by StandardScaler.\n",
      "  warnings.warn(msg, DataConversionWarning)\n",
      "/Users/noahjacobs/anaconda3/lib/python3.7/site-packages/sklearn/utils/validation.py:595: DataConversionWarning: Data with input dtype object was converted to float64 by StandardScaler.\n",
      "  warnings.warn(msg, DataConversionWarning)\n",
      "/Users/noahjacobs/anaconda3/lib/python3.7/site-packages/sklearn/linear_model/logistic.py:460: FutureWarning: Default multi_class will be changed to 'auto' in 0.22. Specify the multi_class option to silence this warning.\n",
      "  \"this warning.\", FutureWarning)\n",
      "/Users/noahjacobs/anaconda3/lib/python3.7/site-packages/sklearn/linear_model/sag.py:334: ConvergenceWarning: The max_iter was reached which means the coef_ did not converge\n",
      "  \"the coef_ did not converge\", ConvergenceWarning)\n",
      "/Users/noahjacobs/anaconda3/lib/python3.7/site-packages/sklearn/utils/validation.py:595: DataConversionWarning: Data with input dtype object was converted to float64 by StandardScaler.\n",
      "  warnings.warn(msg, DataConversionWarning)\n",
      "/Users/noahjacobs/anaconda3/lib/python3.7/site-packages/sklearn/utils/validation.py:595: DataConversionWarning: Data with input dtype object was converted to float64 by StandardScaler.\n",
      "  warnings.warn(msg, DataConversionWarning)\n"
     ]
    },
    {
     "data": {
      "text/plain": [
       "0.8145539906103286"
      ]
     },
     "execution_count": 22,
     "metadata": {},
     "output_type": "execute_result"
    }
   ],
   "source": [
    "#model using morph and ephys to predict me_type\n",
    "temp = mouse_all.merge(allen_me_type,on='specimen_id')\n",
    "temp = temp.dropna()\n",
    "\n",
    "X = temp.loc[:, pred_all_features].values\n",
    "y = temp.loc[:, 'me-type'].values\n",
    "\n",
    "me_me_type_model = linear_model.LogisticRegression(penalty='l1', solver='saga', max_iter=100)\n",
    "fiter2 = me_me_type_model.fit(StandardScaler().fit_transform(X),y)\n",
    "\n",
    "me_me_type_model.score(StandardScaler().fit_transform(X), y)"
   ]
  },
  {
   "cell_type": "code",
   "execution_count": 23,
   "metadata": {},
   "outputs": [],
   "source": [
    "#Create DataFrame for storing predicted values\n",
    "ephys_human_predictions = human_ef_df.loc[:, human_ef_df.columns.intersection(['specimen_id'])]\n",
    "morph_human_predictions = human_morph.loc[:,human_morph.columns.intersection(['specimen_id'])]\n",
    "all_human_predictions = human_all.loc[:,human_morph.columns.intersection(['specimen_id'])]\n",
    "ephys_human_feat = human_ef_df.loc[:, pred_ephys_features].values\n",
    "morph_human_feat = human_morph.loc[:, pred_morph_features].values\n",
    "all_human_feat = human_all.loc[:, pred_all_features].values"
   ]
  },
  {
   "cell_type": "code",
   "execution_count": 24,
   "metadata": {},
   "outputs": [
    {
     "data": {
      "text/plain": [
       "0.9152542372881356"
      ]
     },
     "execution_count": 24,
     "metadata": {},
     "output_type": "execute_result"
    }
   ],
   "source": [
    "#Dendrite human test \n",
    "predicted_ys = e_dendrite_model.predict(human_ef_df.loc[:, pred_ephys_features2].values)\n",
    "\n",
    "ephys_human_predictions.insert(0, 'predicted dendrite', predicted_ys, True) \n",
    "\n",
    "ephys_human_predictions.insert(1,'real dendrite', ef_df['dendrite_type'], True)\n",
    "\n",
    "metrics.accuracy_score(human_ef_df.loc[:, 'dendrite_type'], predicted_ys)"
   ]
  },
  {
   "cell_type": "code",
   "execution_count": 25,
   "metadata": {},
   "outputs": [
    {
     "name": "stdout",
     "output_type": "stream",
     "text": [
      "['Chrna2-Cre_OE25' 'Chrna2-Cre_OE25' 'Chrna2-Cre_OE25' ...\n",
      " 'Chrna2-Cre_OE25' 'Chrna2-Cre_OE25' 'Chrna2-Cre_OE25']\n"
     ]
    }
   ],
   "source": [
    "#Creline human predictions\n",
    "\n",
    "predicted_ys = e_cre_line_model.predict(ephys_human_feat)\n",
    "\n",
    "ephys_human_predictions.insert(2, 'ephys predicted creline', predicted_ys, True)\n",
    "\n",
    "predicted_ys = e_cre_line_model.predict(mouse_ef_df.loc[:, pred_ephys_features].values)\n",
    "print(predicted_ys)"
   ]
  },
  {
   "cell_type": "code",
   "execution_count": 26,
   "metadata": {},
   "outputs": [],
   "source": [
    "#Calculating e-type predictions using ephys on humans\n",
    "predicted_ys = e_e_type_model.predict(ephys_human_feat)\n",
    "ephys_human_predictions.insert(3, 'ephys e-type predictions', predicted_ys, True)"
   ]
  },
  {
   "cell_type": "code",
   "execution_count": 27,
   "metadata": {},
   "outputs": [],
   "source": [
    "#Calculating e-type predictions using morph on humans\n",
    "predicted_ys = m_e_type_model.predict(morph_human_feat)\n",
    "morph_human_predictions.insert(1, 'morph e-type predictions', predicted_ys, True)"
   ]
  },
  {
   "cell_type": "code",
   "execution_count": 28,
   "metadata": {},
   "outputs": [],
   "source": [
    "#Calculating e-type predictions using ephys and morph on humans\n",
    "predicted_ys = me_e_type_model.predict(all_human_feat)\n",
    "all_human_predictions.insert(1, 'ephys and morph e-type predictions', predicted_ys, True)"
   ]
  },
  {
   "cell_type": "code",
   "execution_count": 29,
   "metadata": {},
   "outputs": [],
   "source": [
    "#Calculating m-type predictions using ephys on humans\n",
    "predicted_ys = e_m_type_model.predict(ephys_human_feat)\n",
    "ephys_human_predictions.insert(3, 'ephys m-type predictions', predicted_ys, True)"
   ]
  },
  {
   "cell_type": "code",
   "execution_count": 30,
   "metadata": {},
   "outputs": [],
   "source": [
    "#Calculating m-type predictions using morph on humans\n",
    "predicted_ys = m_m_type_model.predict(morph_human_feat)\n",
    "morph_human_predictions.insert(1, 'morph m-type predictions', predicted_ys, True)"
   ]
  },
  {
   "cell_type": "code",
   "execution_count": 31,
   "metadata": {},
   "outputs": [],
   "source": [
    "#Calculating m-type predictions using ephys and morph on humans\n",
    "predicted_ys = me_m_type_model.predict(all_human_feat)\n",
    "all_human_predictions.insert(1, 'ephys and morph m-type predictions', predicted_ys, True)"
   ]
  },
  {
   "cell_type": "code",
   "execution_count": 32,
   "metadata": {},
   "outputs": [],
   "source": [
    "#Calculating me-type predictions using ephys on humans\n",
    "predicted_ys = e_me_type_model.predict(ephys_human_feat)\n",
    "ephys_human_predictions.insert(3, 'ephys me-type predictions', predicted_ys, True)"
   ]
  },
  {
   "cell_type": "code",
   "execution_count": 33,
   "metadata": {},
   "outputs": [],
   "source": [
    "#Calculating me-type predictions using morph on humans\n",
    "predicted_ys = m_me_type_model.predict(morph_human_feat)\n",
    "morph_human_predictions.insert(1, 'morph me-type predictions', predicted_ys, True)"
   ]
  },
  {
   "cell_type": "code",
   "execution_count": 34,
   "metadata": {},
   "outputs": [],
   "source": [
    "#Calculating me-type predictions using ephys and morph on humans\n",
    "predicted_ys = me_me_type_model.predict(all_human_feat)\n",
    "all_human_predictions.insert(1, 'ephys and morph me-type predictions', predicted_ys, True)"
   ]
  },
  {
   "cell_type": "code",
   "execution_count": 35,
   "metadata": {},
   "outputs": [],
   "source": [
    "#ephys_human_predictions.remove('species')\n",
    "human_predictions = ephys_human_predictions.merge(morph_human_predictions,on='specimen_id',how='outer')\n",
    "human_predictions = human_predictions.merge(all_human_predictions,on='specimen_id',how='outer')\n",
    "human_predictions.to_csv(path_or_buf=file + \"/predicted.csv\")"
   ]
  },
  {
   "cell_type": "code",
   "execution_count": null,
   "metadata": {},
   "outputs": [],
   "source": []
  },
  {
   "cell_type": "code",
   "execution_count": null,
   "metadata": {},
   "outputs": [],
   "source": []
  }
 ],
 "metadata": {
  "kernelspec": {
   "display_name": "Python 3",
   "language": "python",
   "name": "python3"
  },
  "language_info": {
   "codemirror_mode": {
    "name": "ipython",
    "version": 3
   },
   "file_extension": ".py",
   "mimetype": "text/x-python",
   "name": "python",
   "nbconvert_exporter": "python",
   "pygments_lexer": "ipython3",
   "version": "3.7.3"
  }
 },
 "nbformat": 4,
 "nbformat_minor": 2
}
